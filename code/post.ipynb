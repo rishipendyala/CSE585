{
 "cells": [
  {
   "cell_type": "code",
   "execution_count": 34,
   "metadata": {},
   "outputs": [],
   "source": [
    "from fhirpy import SyncFHIRClient\n",
    "\n",
    "client = SyncFHIRClient('http://hapi.fhir.org/baseR4') \n"
   ]
  },
  {
   "cell_type": "code",
   "execution_count": 35,
   "metadata": {},
   "outputs": [
    {
     "name": "stdout",
     "output_type": "stream",
     "text": [
      "Practitioner ID: 45036235\n"
     ]
    }
   ],
   "source": [
    "practitioner_resource = {\n",
    "    \"resourceType\": \"Practitioner\",\n",
    "    \"name\": [{\"use\": \"official\", \"family\": \"Ramesh\", \"given\": [\"Dr. Rahul\"]}]\n",
    "}\n",
    "\n",
    "practitioner = client.resource('Practitioner', **practitioner_resource)\n",
    "practitioner_response = practitioner.save()\n",
    "practitioner_id = practitioner_response['id']\n",
    "print(f'Practitioner ID: {practitioner_id}')\n"
   ]
  },
  {
   "cell_type": "markdown",
   "metadata": {},
   "source": [
    "##### Resource: Practitioner\n",
    "To represent healthcare professionals involved in patient care, enabling proper attribution of medical services and tracking of practitioner-related activities.\n",
    "\n",
    "- **identifier**: Unique national and institutional IDs.\n",
    "- **name**: Official name \n",
    "- **qualification**: Details of the practitioner's qualifications, including the type of qualification and the issuing organization.\n",
    "- **active**: Indicator of whether the practitioner is currently active in their role.\n"
   ]
  },
  {
   "cell_type": "code",
   "execution_count": 36,
   "metadata": {},
   "outputs": [
    {
     "name": "stdout",
     "output_type": "stream",
     "text": [
      "Patient ID: 45036236\n"
     ]
    }
   ],
   "source": [
    "patient_resource = {\n",
    "    \"resourceType\": \"Patient\",\n",
    "    \"name\": [{\"use\": \"official\", \"family\": \"Kumar\", \"given\": [\"Arun\"]}],\n",
    "    \"gender\": \"male\",\n",
    "    \"birthDate\": \"2004-09-28\",\n",
    "    \"identifier\": [{\"system\": \"http://xyzuniversity.org/student-id\", \"value\": \"XYZ123456\"}],\n",
    "    \"address\": [{\n",
    "        \"use\": \"home\",\n",
    "        \"line\": [\"Room 102, Block C, XYZ University\"],\n",
    "        \"city\": \"Hyderabad\",\n",
    "        \"postalCode\": \"500001\"\n",
    "    }]\n",
    "}\n",
    "\n",
    "patient = client.resource('Patient', **patient_resource)\n",
    "patient_response = patient.save()\n",
    "patient_id = patient_response['id']\n",
    "print(f'Patient ID: {patient_id}')\n"
   ]
  },
  {
   "cell_type": "markdown",
   "metadata": {},
   "source": [
    "##### Resource: Patient\n",
    "This identifies students and enables us to track the demographic data of students on campus.\n",
    "\n",
    "- **name**: Student’s full name\n",
    "- **gender**: [Administrative Gender Value Set](https://hl7.org/fhir/valueset-administrative-gender.html)\n",
    "- **birthDate**: Date of birth of the student.\n",
    "- **id**: Unique student identifier like roll no.\n",
    "- **address**: Student's current residential address"
   ]
  },
  {
   "cell_type": "code",
   "execution_count": 37,
   "metadata": {},
   "outputs": [
    {
     "name": "stdout",
     "output_type": "stream",
     "text": [
      "Observation ID: 45036237\n"
     ]
    }
   ],
   "source": [
    "observation_resource = {\n",
    "    \"resourceType\": \"Observation\",\n",
    "    \"status\": \"final\",\n",
    "    \"code\": {\n",
    "        \"coding\": [{\n",
    "            \"system\": \"http://loinc.org\",\n",
    "            \"code\": \"LP21258-6\",\n",
    "            \"display\": \"Body temperature\"\n",
    "        }]\n",
    "    },\n",
    "    \"valueQuantity\": {\n",
    "        \"value\": 102,\n",
    "        \"unit\": \"°F\",\n",
    "        \"system\": \"http://unitsofmeasure.org\",\n",
    "        \"code\": \"degF\"\n",
    "    },\n",
    "    \"effectiveDateTime\": \"2024-09-28T08:00:00Z\",\n",
    "    \"subject\": {\"reference\": f'Patient/{patient_id}'}\n",
    "}\n",
    "\n",
    "observation = client.resource('Observation', **observation_resource)\n",
    "observation_response = observation.save()\n",
    "observation_id = observation_response['id']\n",
    "print(f'Observation ID: {observation_id}')\n"
   ]
  },
  {
   "cell_type": "markdown",
   "metadata": {},
   "source": [
    "##### Resource: Observation\n",
    "To capture symptoms and vital signs recorded by students regularly on campus.\n",
    "\n",
    "- **code**: [LOINC Observation Codes Value Set](https://build.fhir.org/valueset-observation-codes.html)\n",
    "- **valueQuantity**: Value of observation (e.g., temperature, blood pressure) [UCUM](https://ucum.org/)\n",
    "- **effectiveDateTime**: Date and time the observation was recorded.\n",
    "- **subject**: Reference to the Patient resource.\n"
   ]
  },
  {
   "cell_type": "code",
   "execution_count": 38,
   "metadata": {},
   "outputs": [
    {
     "name": "stdout",
     "output_type": "stream",
     "text": [
      "Condition ID: 45036238\n"
     ]
    }
   ],
   "source": [
    "condition_resource = {\n",
    "    \"resourceType\": \"Condition\",\n",
    "    \"clinicalStatus\": {\n",
    "        \"coding\": [{\n",
    "            \"system\": \"http://terminology.hl7.org/CodeSystem/condition-clinical\",\n",
    "            \"code\": \"active\",\n",
    "            \"display\": \"Active\"\n",
    "        }]\n",
    "    },\n",
    "    \"code\": {\n",
    "        \"coding\": [{\n",
    "            \"system\": \"http://snomed.info/sct\",\n",
    "            \"code\": \"6142004\",\n",
    "            \"display\": \"Influenza\"\n",
    "        }]\n",
    "    },\n",
    "    \"onsetDateTime\": \"2024-09-28T08:00:00Z\",\n",
    "    \"subject\": {\"reference\": f'Patient/{patient_id}'}\n",
    "}\n",
    "\n",
    "condition = client.resource('Condition', **condition_resource)\n",
    "condition_response = condition.save()\n",
    "condition_id = condition_response['id']\n",
    "print(f'Condition ID: {condition_id}')\n"
   ]
  },
  {
   "cell_type": "markdown",
   "metadata": {},
   "source": [
    "##### Resource: Condition\n",
    "To track diagnosed conditions such as flu or COVID-19 for students on campus.\n",
    "\n",
    "- **clinicalStatus**: [Clinical Status Value Set](https://hl7.org/fhir/valueset-condition-clinical.html)\n",
    "- **code**: [Condition Code Value Set](https://build.fhir.org/valueset-condition-code.html)\n",
    "- **onsetDateTime**: Date and time when the condition was first identified.\n",
    "- **subject**: Reference to the Patient resource.\n"
   ]
  },
  {
   "cell_type": "code",
   "execution_count": 39,
   "metadata": {},
   "outputs": [
    {
     "name": "stdout",
     "output_type": "stream",
     "text": [
      "Appointment ID: 45036239\n"
     ]
    }
   ],
   "source": [
    "appointment_resource = {\n",
    "    \"resourceType\": \"Appointment\",\n",
    "    \"status\": \"booked\",\n",
    "    \"start\": \"2024-09-28T10:00:00Z\",\n",
    "    \"end\": \"2024-09-28T10:30:00Z\",\n",
    "    \"participant\": [\n",
    "        {\n",
    "            \"actor\": {\"reference\": f'Patient/{patient_id}'},\n",
    "            \"status\": \"accepted\"\n",
    "        },\n",
    "        {\n",
    "            \"actor\": {\"reference\": f'Practitioner/{practitioner_id}'},\n",
    "            \"status\": \"accepted\"\n",
    "        }\n",
    "    ]\n",
    "}\n",
    "\n",
    "appointment = client.resource('Appointment', **appointment_resource)\n",
    "appointment_response = appointment.save()\n",
    "appointment_id = appointment_response['id']\n",
    "print(f'Appointment ID: {appointment_id}')\n"
   ]
  },
  {
   "cell_type": "markdown",
   "metadata": {},
   "source": [
    "##### Resource: Appointment\n",
    "To manage healthcare appointments between students and campus healthcare providers.\n",
    "\n",
    "- **start**: Start time of the appointment.\n",
    "- **end**: End time of the appointment.\n",
    "- **participant**: List of participants [Participant Type Value Set](http://hl7.org/fhir/ValueSet/participant-type)\n",
    "- **status**: (e.g., booked, cancelled) [Appointment Status Value Set](http://hl7.org/fhir/ValueSet/appointmentstatus)\n"
   ]
  },
  {
   "cell_type": "code",
   "execution_count": 40,
   "metadata": {},
   "outputs": [
    {
     "name": "stdout",
     "output_type": "stream",
     "text": [
      "DocumentReference ID: 45036240\n"
     ]
    }
   ],
   "source": [
    "document_reference_resource = {\n",
    "    \"resourceType\": \"DocumentReference\",\n",
    "    \"status\": \"current\",\n",
    "    \"subject\": {\n",
    "        \"reference\": f\"Patient/{patient_id}\"\n",
    "    },\n",
    "    \"type\": {\n",
    "        \"coding\": [\n",
    "            {\n",
    "                \"system\": \"http://loinc.org\",\n",
    "                \"code\": \"34133-9\",\n",
    "                \"display\": \"Summary of care plan\"\n",
    "            }\n",
    "        ]\n",
    "    },\n",
    "    \"content\": [\n",
    "        {\n",
    "            \"attachment\": {\n",
    "                \"contentType\": \"application/pdf\",\n",
    "                \"url\": \"urn:uuid:careplan-flu-treatment\"  \n",
    "            }\n",
    "        }\n",
    "    ]\n",
    "}\n",
    "\n",
    "document_reference = client.resource('DocumentReference', **document_reference_resource)\n",
    "document_reference_response = document_reference.save()\n",
    "document_reference_id = document_reference_response['id']\n",
    "print(f'DocumentReference ID: {document_reference_id}')\n"
   ]
  },
  {
   "cell_type": "markdown",
   "metadata": {},
   "source": [
    "##### Resource: DocumentReference\n",
    "To store and reference documents related to the student's health (e.g., lab reports, prescriptions, vaccination certificates).\n",
    "\n",
    "- **type**: (e.g., lab report, prescription) [Document Type Codes Value Set](https://build.fhir.org/valueset-doc-typecodes.html)\n",
    "- **content**: The actual document, usually in binary format (PDF, image) [HL7 Format Codes Value Set](https://terminology.hl7.org/6.0.2/ValueSet-v3-HL7FormatCodes.html)\n",
    "- **subject**: Reference to the Patient resource.\n"
   ]
  },
  {
   "cell_type": "code",
   "execution_count": 41,
   "metadata": {},
   "outputs": [
    {
     "name": "stdout",
     "output_type": "stream",
     "text": [
      "Medication Request ID: 45036241\n"
     ]
    }
   ],
   "source": [
    "medication_request_resource = {\n",
    "    \"resourceType\": \"MedicationRequest\",\n",
    "    \"status\": \"active\",\n",
    "    \"intent\": \"order\",\n",
    "    \"medicationCodeableConcept\": {\n",
    "        \"coding\": [{\n",
    "            \"system\": \"http://snomed.info/sct\",\n",
    "            \"code\": \"324337001\",\n",
    "            \"display\": \"Oseltamivir 75 MG Oral Capsule\"\n",
    "        }]\n",
    "    },\n",
    "    \"subject\": {\"reference\": f'Patient/{patient_id}'},\n",
    "    \"authoredOn\": \"2024-09-28T09:00:00Z\",\n",
    "    \"dosageInstruction\": [{\n",
    "        \"text\": \"Take 75mg twice daily for 5 days\",\n",
    "        \"timing\": {\n",
    "            \"repeat\": {\n",
    "                \"frequency\": 2,\n",
    "                \"period\": 1,\n",
    "                \"periodUnit\": \"d\"\n",
    "            }\n",
    "        },\n",
    "        \"doseAndRate\": [{\n",
    "            \"doseQuantity\": {\n",
    "                \"value\": 75,\n",
    "                \"unit\": \"mg\",\n",
    "                \"system\": \"http://unitsofmeasure.org\",\n",
    "                \"code\": \"mg\"\n",
    "            }\n",
    "        }]\n",
    "    }]\n",
    "}\n",
    "\n",
    "medication_request = client.resource('MedicationRequest', **medication_request_resource)\n",
    "medication_request_response = medication_request.save()\n",
    "medication_request_id = medication_request_response['id']\n",
    "print(f'Medication Request ID: {medication_request_id}')\n"
   ]
  },
  {
   "cell_type": "markdown",
   "metadata": {},
   "source": [
    "#### Resource: MedicationRequest\n",
    "To store prescribed medications for students, enabling medication tracking.\n",
    "- **medication**: [Medication Codes Value Set - FHIR v6.0.0-ballot1](https://hl7.org/fhir/ValueSet/medication-codes.html)\n",
    "- **dosageInstruction**: Specific instructions [Timing Abbreviation Value Set](http://hl7.org/fhir/ValueSet/timing-abbreviation)\n",
    "- **subject**: Reference to the Patient resource.\n",
    "- **authoredOn**: Date the medication was prescribed.\n"
   ]
  },
  {
   "cell_type": "code",
   "execution_count": 42,
   "metadata": {},
   "outputs": [
    {
     "name": "stdout",
     "output_type": "stream",
     "text": [
      "Communication ID: 45036242\n"
     ]
    }
   ],
   "source": [
    "communication_resource = {\n",
    "    \"resourceType\": \"Communication\",\n",
    "    \"status\": \"completed\",\n",
    "    \"subject\": {\"reference\": f'Patient/{patient_id}'},\n",
    "    \"topic\": {\n",
    "        \"coding\": [{\n",
    "            \"system\": \"http://terminology.hl7.org/CodeSystem/communication-topic\",\n",
    "            \"code\": \"flu-prevention\",\n",
    "            \"display\": \"Flu Prevention Alert\"\n",
    "        }]\n",
    "    },\n",
    "    \"sent\": \"2024-09-28T10:05:00Z\",\n",
    "    \"payload\": [{\n",
    "        \"contentString\": \"Alert: Please wear masks and take precautions as flu cases have increased on campus.\"\n",
    "    }]\n",
    "}\n",
    "\n",
    "communication = client.resource('Communication', **communication_resource)\n",
    "communication_response = communication.save()\n",
    "communication_id = communication_response['id']\n",
    "print(f'Communication ID: {communication_id}')\n"
   ]
  },
  {
   "cell_type": "markdown",
   "metadata": {},
   "source": [
    "##### Resource: Communication\n",
    "To send alerts to students and healthcare providers regarding potential health outbreaks.\n",
    "- **status**: [Event Status Value Set](https://build.fhir.org/valueset-event-status.html)\n",
    "- **subject**: Reference to the Patient resource.\n",
    "- **topic**: [Communication Topic Value Set](https://build.fhir.org/valueset-communication-topic.html)\n",
    "- **sent**: Date the communication was sent.\n"
   ]
  },
  {
   "cell_type": "code",
   "execution_count": 43,
   "metadata": {},
   "outputs": [
    {
     "name": "stdout",
     "output_type": "stream",
     "text": [
      "Medication Administration ID: 45036243\n"
     ]
    }
   ],
   "source": [
    "medication_administration_resource = {\n",
    "    \"resourceType\": \"MedicationAdministration\",\n",
    "    \"status\": \"completed\",\n",
    "    \"medicationCodeableConcept\": {\n",
    "        \"coding\": [{\n",
    "            \"system\": \"http://snomed.info/sct\",\n",
    "            \"code\": \"324337001\",\n",
    "            \"display\": \"Oseltamivir 75 MG Oral Capsule\"\n",
    "        }]\n",
    "    },\n",
    "    \"subject\": {\"reference\": f'Patient/{patient_id}'},\n",
    "    \"effectiveDateTime\": \"2024-09-28T12:00:00Z\",\n",
    "    \"dosage\": {\n",
    "        \"dose\": {\n",
    "            \"value\": 75,\n",
    "            \"unit\": \"mg\",\n",
    "            \"system\": \"http://unitsofmeasure.org\",\n",
    "            \"code\": \"mg\"\n",
    "        }\n",
    "    }\n",
    "}\n",
    "\n",
    "medication_administration = client.resource('MedicationAdministration', **medication_administration_resource)\n",
    "medication_administration_response = medication_administration.save()\n",
    "medication_administration_id = medication_administration_response['id']\n",
    "print(f'Medication Administration ID: {medication_administration_id}')\n"
   ]
  },
  {
   "cell_type": "markdown",
   "metadata": {},
   "source": [
    "##### Resource: MedicationAdministration\n",
    "To record the administration of medications to students, facilitating medication tracking.\n",
    "\n",
    "- **medication**: What was administered [Medication Codes Value Set](https://build.fhir.org/valueset-medication-codes.html)\n",
    "- **subject**: Reference to the Patient resource.\n",
    "- **occurrence**: When the medication was administered.\n",
    "- **dosage**: Dosage details including amount and timing [UCUM](https://ucum.org/)\n"
   ]
  },
  {
   "cell_type": "code",
   "execution_count": 44,
   "metadata": {},
   "outputs": [
    {
     "name": "stdout",
     "output_type": "stream",
     "text": [
      "Care Plan ID: 45036244\n"
     ]
    }
   ],
   "source": [
    "care_plan_resource = {\n",
    "    \"resourceType\": \"CarePlan\",\n",
    "    \"status\": \"active\",\n",
    "    \"intent\": \"plan\",\n",
    "    \"title\": \"Flu Treatment Care Plan\",\n",
    "    \"subject\": {\"reference\": f'Patient/{patient_id}'},\n",
    "    \"activity\": [{\n",
    "        \"detail\": {\n",
    "            \"code\": {\n",
    "                \"coding\": [{\n",
    "                    \"system\": \"http://snomed.info/sct\",\n",
    "                    \"code\": \"76445007\",\n",
    "                    \"display\": \"Treatment regimen\"\n",
    "                }]\n",
    "            },\n",
    "            \"status\": \"in-progress\",\n",
    "            \"prohibited\": False\n",
    "        }\n",
    "    }]\n",
    "}\n",
    "\n",
    "care_plan = client.resource('CarePlan', **care_plan_resource)\n",
    "care_plan_response = care_plan.save()\n",
    "care_plan_id = care_plan_response['id']\n",
    "print(f'Care Plan ID: {care_plan_id}')\n"
   ]
  },
  {
   "cell_type": "markdown",
   "metadata": {},
   "source": [
    "##### Resource: CarePlan\n",
    "To manage personalized care plans for students (including preventive, treatment, post-recovery).\n",
    "\n",
    "- **status**: Current status of the care plan. [Request Status Value Set](https://build.fhir.org/valueset-request-status.html)\n",
    "- **intent**: Plan/Proposal, etc. [Care Plan Intent Value Set](https://build.fhir.org/valueset-care-plan-intent.html)\n",
    "- **activity**: Specific activities [Care Plan Activity Performed Value Set](https://build.fhir.org/valueset-care-plan-activity-performed.html)\n",
    "- **subject**: Reference to the Patient resource.\n"
   ]
  },
  {
   "cell_type": "code",
   "execution_count": 45,
   "metadata": {},
   "outputs": [],
   "source": [
    "def get_resource_by_id(resource_type, resource_id):\n",
    "    resource = client.resources(resource_type).search(_id=resource_id).first() \n",
    "    return resource  \n",
    "\n",
    "def print_resource_details(resource):\n",
    "    if resource:\n",
    "        print()\n",
    "        print(f\"Details of {resource.resourceType}:\")\n",
    "        for key, value in resource.items():\n",
    "            print(f\"{key}: {value}\")\n",
    "        print()\n",
    "    else:\n",
    "        print(\"Resource not found.\")\n"
   ]
  },
  {
   "cell_type": "code",
   "execution_count": 46,
   "metadata": {},
   "outputs": [
    {
     "name": "stdout",
     "output_type": "stream",
     "text": [
      "\n",
      "Details of Practitioner:\n",
      "resourceType: Practitioner\n",
      "id: 45036235\n",
      "meta: {'versionId': '1', 'lastUpdated': '2024-09-28T13:25:23.673+00:00', 'source': '#z10fttI2qsbL2Kr2'}\n",
      "name: [{'use': 'official', 'family': 'Ramesh', 'given': ['Dr. Rahul']}]\n",
      "\n",
      "\n",
      "Details of Patient:\n",
      "resourceType: Patient\n",
      "id: 45036236\n",
      "meta: {'versionId': '1', 'lastUpdated': '2024-09-28T13:25:24.674+00:00', 'source': '#h7xNxqVSOTG5c1mH'}\n",
      "text: {'status': 'generated', 'div': '<div xmlns=\"http://www.w3.org/1999/xhtml\"><div class=\"hapiHeaderText\">Arun <b>KUMAR </b></div><table class=\"hapiPropertyTable\"><tbody><tr><td>Identifier</td><td>XYZ123456</td></tr><tr><td>Address</td><td><span>Room 102, Block C, XYZ University </span><br/><span>Hyderabad </span></td></tr><tr><td>Date of birth</td><td><span>28 September 2004</span></td></tr></tbody></table></div>'}\n",
      "identifier: [{'system': 'http://xyzuniversity.org/student-id', 'value': 'XYZ123456'}]\n",
      "name: [{'use': 'official', 'family': 'Kumar', 'given': ['Arun']}]\n",
      "gender: male\n",
      "birthDate: 2004-09-28\n",
      "address: [{'use': 'home', 'line': ['Room 102, Block C, XYZ University'], 'city': 'Hyderabad', 'postalCode': '500001'}]\n",
      "\n",
      "\n",
      "Details of Observation:\n",
      "resourceType: Observation\n",
      "id: 45036237\n",
      "meta: {'versionId': '1', 'lastUpdated': '2024-09-28T13:25:25.673+00:00', 'source': '#AKvsdKTOTjwHamtw'}\n",
      "status: final\n",
      "code: {'coding': [{'system': 'http://loinc.org', 'code': 'LP21258-6', 'display': 'Body temperature'}]}\n",
      "subject: <SyncFHIRReference Patient/45036236>\n",
      "effectiveDateTime: 2024-09-28T08:00:00Z\n",
      "valueQuantity: {'value': 102, 'unit': '°F', 'system': 'http://unitsofmeasure.org', 'code': 'degF'}\n",
      "\n",
      "\n",
      "Details of Appointment:\n",
      "resourceType: Appointment\n",
      "id: 45036239\n",
      "meta: {'versionId': '1', 'lastUpdated': '2024-09-28T13:25:27.674+00:00', 'source': '#aks1blVHU1dr2vc9'}\n",
      "status: booked\n",
      "start: 2024-09-28T10:00:00Z\n",
      "end: 2024-09-28T10:30:00Z\n",
      "participant: [{'actor': <SyncFHIRReference Patient/45036236>, 'status': 'accepted'}, {'actor': <SyncFHIRReference Practitioner/45036235>, 'status': 'accepted'}]\n",
      "\n",
      "\n",
      "Details of Condition:\n",
      "resourceType: Condition\n",
      "id: 45036238\n",
      "meta: {'versionId': '1', 'lastUpdated': '2024-09-28T13:25:26.674+00:00', 'source': '#BxanGZWIz8oen5qW'}\n",
      "clinicalStatus: {'coding': [{'system': 'http://terminology.hl7.org/CodeSystem/condition-clinical', 'code': 'active', 'display': 'Active'}]}\n",
      "code: {'coding': [{'system': 'http://snomed.info/sct', 'code': '6142004', 'display': 'Influenza'}]}\n",
      "subject: <SyncFHIRReference Patient/45036236>\n",
      "onsetDateTime: 2024-09-28T08:00:00Z\n",
      "\n",
      "\n",
      "Details of MedicationRequest:\n",
      "resourceType: MedicationRequest\n",
      "id: 45036241\n",
      "meta: {'versionId': '1', 'lastUpdated': '2024-09-28T13:25:29.674+00:00', 'source': '#5xSK3A7O6E785nl8'}\n",
      "status: active\n",
      "intent: order\n",
      "medicationCodeableConcept: {'coding': [{'system': 'http://snomed.info/sct', 'code': '324337001', 'display': 'Oseltamivir 75 MG Oral Capsule'}]}\n",
      "subject: <SyncFHIRReference Patient/45036236>\n",
      "authoredOn: 2024-09-28T09:00:00Z\n",
      "dosageInstruction: [{'text': 'Take 75mg twice daily for 5 days', 'timing': {'repeat': {'frequency': 2, 'period': 1, 'periodUnit': 'd'}}, 'doseAndRate': [{'doseQuantity': {'value': 75, 'unit': 'mg', 'system': 'http://unitsofmeasure.org', 'code': 'mg'}}]}]\n",
      "\n",
      "\n",
      "Details of MedicationAdministration:\n",
      "resourceType: MedicationAdministration\n",
      "id: 45036243\n",
      "meta: {'versionId': '1', 'lastUpdated': '2024-09-28T13:25:31.673+00:00', 'source': '#djsgRnzelvnfhtoY'}\n",
      "status: completed\n",
      "medicationCodeableConcept: {'coding': [{'system': 'http://snomed.info/sct', 'code': '324337001', 'display': 'Oseltamivir 75 MG Oral Capsule'}]}\n",
      "subject: <SyncFHIRReference Patient/45036236>\n",
      "effectiveDateTime: 2024-09-28T12:00:00Z\n",
      "dosage: {'dose': {'value': 75, 'unit': 'mg', 'system': 'http://unitsofmeasure.org', 'code': 'mg'}}\n",
      "\n",
      "\n",
      "Details of CarePlan:\n",
      "resourceType: CarePlan\n",
      "id: 45036244\n",
      "meta: {'versionId': '1', 'lastUpdated': '2024-09-28T13:25:32.673+00:00', 'source': '#drgopA0KjV7btnBy'}\n",
      "status: active\n",
      "intent: plan\n",
      "title: Flu Treatment Care Plan\n",
      "subject: <SyncFHIRReference Patient/45036236>\n",
      "activity: [{'detail': {'code': {'coding': [{'system': 'http://snomed.info/sct', 'code': '76445007', 'display': 'Treatment regimen'}]}, 'status': 'in-progress'}}]\n",
      "\n",
      "\n",
      "Details of Communication:\n",
      "resourceType: Communication\n",
      "id: 45036242\n",
      "meta: {'versionId': '1', 'lastUpdated': '2024-09-28T13:25:30.673+00:00', 'source': '#JSpyrXoqr6qIXPN9'}\n",
      "status: completed\n",
      "subject: <SyncFHIRReference Patient/45036236>\n",
      "topic: {'coding': [{'system': 'http://terminology.hl7.org/CodeSystem/communication-topic', 'code': 'flu-prevention', 'display': 'Flu Prevention Alert'}]}\n",
      "sent: 2024-09-28T10:05:00Z\n",
      "payload: [{'contentString': 'Alert: Please wear masks and take precautions as flu cases have increased on campus.'}]\n",
      "\n"
     ]
    }
   ],
   "source": [
    "retrieved_practitioner = get_resource_by_id('Practitioner', practitioner_id)\n",
    "print_resource_details(retrieved_practitioner)\n",
    "\n",
    "retrieved_patient = get_resource_by_id('Patient', patient_id)\n",
    "print_resource_details(retrieved_patient)\n",
    "\n",
    "retrieved_observation = get_resource_by_id('Observation', observation_id)\n",
    "print_resource_details(retrieved_observation)\n",
    "\n",
    "retrieved_appointment = get_resource_by_id('Appointment', appointment_id)\n",
    "print_resource_details(retrieved_appointment)\n",
    "\n",
    "retrieved_condition = get_resource_by_id('Condition', condition_id)\n",
    "print_resource_details(retrieved_condition)\n",
    "\n",
    "retrieved_medication_request = get_resource_by_id('MedicationRequest', medication_request_id)\n",
    "print_resource_details(retrieved_medication_request)\n",
    "\n",
    "retrieved_medication_administration = get_resource_by_id('MedicationAdministration', medication_administration_id)\n",
    "print_resource_details(retrieved_medication_administration)\n",
    "\n",
    "retrieved_careplan = get_resource_by_id('CarePlan', care_plan_id)\n",
    "print_resource_details(retrieved_careplan)\n",
    "\n",
    "retrieved_communication = get_resource_by_id('Communication', communication_id)\n",
    "print_resource_details(retrieved_communication)"
   ]
  }
 ],
 "metadata": {
  "kernelspec": {
   "display_name": "Python 3",
   "language": "python",
   "name": "python3"
  },
  "language_info": {
   "codemirror_mode": {
    "name": "ipython",
    "version": 3
   },
   "file_extension": ".py",
   "mimetype": "text/x-python",
   "name": "python",
   "nbconvert_exporter": "python",
   "pygments_lexer": "ipython3",
   "version": "3.12.2"
  }
 },
 "nbformat": 4,
 "nbformat_minor": 2
}
